{
 "cells": [
  {
   "cell_type": "code",
   "execution_count": 1,
   "id": "0458a945-6272-4838-867a-c151dd7d3558",
   "metadata": {
    "execution": {
     "iopub.execute_input": "2022-01-07T03:00:37.138924Z",
     "iopub.status.busy": "2022-01-07T03:00:37.138187Z",
     "iopub.status.idle": "2022-01-07T03:00:37.563903Z",
     "shell.execute_reply": "2022-01-07T03:00:37.562895Z",
     "shell.execute_reply.started": "2022-01-07T03:00:37.138868Z"
    },
    "scrolled": true
   },
   "outputs": [
    {
     "name": "stdout",
     "output_type": "stream",
     "text": [
      "成功加载的数据量为：10\n",
      "！！！当前加载的为测试数据！！！\n"
     ]
    }
   ],
   "source": [
    "import os\n",
    "import sys\n",
    "import datetime\n",
    "import numpy as np\n",
    "import pandas as pd\n",
    "from myIOUtils import *\n",
    "from myDatetime import *\n",
    "\n",
    "sys.path.append('/home/aistudio/data')\n",
    "# 原始数据需提前解压出来\n",
    "data_folder_path = '/home/aistudio/data/data124390/data_unzip_2018'\n",
    "# 所有输出结果保存在work工作目录下\n",
    "result_folder_path = '/home/aistudio/work'\n",
    "\n",
    "# 自定义文件存储位置\n",
    "failure_serial_file = \"failure_serial_result.txt\"\n",
    "success_serial_file = \"success_serial_result.txt\"\n",
    "\n",
    "# 读取所有的文件\n",
    "dataFiles = os.listdir(data_folder_path) \n",
    "# data_len = 365, data_count = 36700506, failure count == 1378\n",
    "\n",
    "### 设置测试文件数量 ###\n",
    "EXAMPLE_NUM = 10\n",
    "dataFiles = dataFiles[:EXAMPLE_NUM]\n",
    "\n",
    "data_size = len(dataFiles)\n",
    "print(\"成功加载的数据量为：\" + str(data_size))\n",
    "if data_size < 365 :\n",
    "    print(\"！！！当前加载的为测试数据！！！\")\n"
   ]
  },
  {
   "cell_type": "code",
   "execution_count": null,
   "id": "043217c7-a293-4ff9-ad81-3e47d70b8803",
   "metadata": {
    "jupyter": {
     "source_hidden": true
    },
    "scrolled": true
   },
   "outputs": [],
   "source": [
    "#######################################\n",
    "### 该模块用于获取出现故障的硬盘序列号 ###\n",
    "#######################################\n",
    "\n",
    "failure_serial_list = []\n",
    "failure_count = 0 # 出现过故障的硬盘总数，由serial_number来确定唯一性\n",
    "for index, fileName in enumerate(dataFiles):\n",
    "    filePath = data_folder_path + \"/\" + fileName\n",
    "    all_df = pd.read_csv(filePath)\n",
    "    # 选择列属性'failure'值为1的数据切片\n",
    "    all_df = all_df.loc[all_df['failure']==1]\n",
    "    # 切片所有数据的'serial_number'列\n",
    "    all_df = all_df.loc[:, \"serial_number\"]\n",
    "    all_df_list = all_df.values.tolist()\n",
    "    for serial_item in all_df_list:\n",
    "        if serial_item in failure_serial_list:\n",
    "            print(\"重复出现故障的serial_number : \" + serial_item) # 输出重复出现的serial_number\n",
    "        else:\n",
    "            failure_serial_list.append(serial_item)\n",
    "            failure_count = failure_count + 1\n",
    "    # 跟踪数据处理进度\n",
    "    if (index+1)%36 == 0:\n",
    "        print((str(((index+1)/36)*10)) + \"% data finished...\")\n",
    "    elif(index == 364):\n",
    "        print(\"!!! all finished !!!\")\n",
    "print(\"failure count == \"+ str(failure_count))\n",
    "# print(failure_serial_list)\n",
    "\n",
    "write_list_to_file(failure_serial_list, result_folder_path, failure_serial_file)\n"
   ]
  },
  {
   "cell_type": "markdown",
   "id": "ae519745-3668-4bda-b463-19e23ab2580d",
   "metadata": {},
   "source": [
    "默认硬盘序列号serial number为唯一标识符\n",
    "\n",
    "ZA13C001 ZA14LWDQ 5641SFS9S 该标识出现过两次"
   ]
  },
  {
   "cell_type": "code",
   "execution_count": null,
   "id": "4dee42d5-aea7-43a1-9f98-5b026a18a335",
   "metadata": {
    "jupyter": {
     "source_hidden": true
    },
    "scrolled": true
   },
   "outputs": [],
   "source": [
    "#######################################\n",
    "### 该模块用于提取所有出故障硬盘数据集 ###\n",
    "#######################################\n",
    "\n",
    "# 加载failure_serial_list\n",
    "failure_serial_list = read_file_to_list(result_folder_path, failure_serial_file)\n",
    "print(\"总故障硬盘数量为：\"+str(len(failure_serial_list)))\n",
    "\n",
    "# 提取故障硬盘的所有数据信息\n",
    "for _ , fileName in enumerate(dataFiles):\n",
    "    filePath = data_folder_path + \"/\" + fileName\n",
    "    all_df = pd.read_csv(filePath)\n",
    "    # 检查序列号是否出现在故障列表中，获取故障硬盘数据集\n",
    "    failure_df = all_df.loc[all_df['serial_number'].isin(failure_serial_list)]\n",
    "    # 通过文件名获取时间序列信息\n",
    "    time_interval = time_interval_from_fileName(fileName)\n",
    "    # 在原数据列表中插入时间序列\n",
    "    failure_df.insert(loc=1, column='time_interval', value=time_interval)\n",
    "    # 写入csv文件中\n",
    "    failure_csv_file = result_folder_path + \"/failure/date/\" + fileName\n",
    "    with open(failure_csv_file, 'w+') as f:\n",
    "        failure_df.to_csv(f)\n",
    "    print(fileName + ' 输出故障硬盘数量 --> ' + str(len(failure_df)))\n"
   ]
  },
  {
   "cell_type": "code",
   "execution_count": null,
   "id": "5bf944c3-ac27-441d-a811-6500cca9faa0",
   "metadata": {
    "jupyter": {
     "source_hidden": true
    },
    "scrolled": true
   },
   "outputs": [],
   "source": [
    "#########################################\n",
    "### 该模块用于故障硬盘数据集的序列号分类 ###\n",
    "#########################################\n",
    "\n",
    "# 只加载故障故障硬盘的数据集\n",
    "failure_dict = {}\n",
    "for _ , fileName in enumerate(dataFiles):\n",
    "    failure_csv_file = result_folder_path + \"/failure/date/\" + fileName\n",
    "    with open(failure_csv_file, 'r') as f:\n",
    "        failure_df = pd.read_csv(f)\n",
    "        # 故障序列号列表\n",
    "        failure_serial_list = failure_df.iloc[:,3].values.tolist()\n",
    "        # print(failure_serial_list)\n",
    "        for serial_item in failure_serial_list:\n",
    "            current_df = failure_df.loc[failure_df['serial_number'] == serial_item]\n",
    "            if serial_item not in failure_dict.keys():\n",
    "                # value信息改为直接保存df数据\n",
    "                failure_dict[serial_item] = [current_df]\n",
    "            else:\n",
    "                failure_dict[serial_item].append(current_df)\n",
    "    print(fileName)\n",
    "# 检查failure_dict键数量是否等于\n",
    "print(len(failure_dict.keys()))\n",
    "\n",
    "for key in failure_dict.keys():\n",
    "    df_data_list = failure_dict[key]\n",
    "    df_data = pd.DataFrame() # 初始化DataFrame数据结构\n",
    "    for df_item in df_data_list:\n",
    "        df_data = df_data.append(df_item)\n",
    "    # 对df按照interval_time的列递增排序写入csv\n",
    "    df_data = df_data.sort_values(by=['time_interval'], ascending=True) \n",
    "    # 写入csv文件中\n",
    "    clean_csv_file = result_folder_path + \"/failure/clean/\" + key + \".csv\"\n",
    "    with open(clean_csv_file, 'w+') as f:\n",
    "        df_data.to_csv(f)\n",
    "    print(key + \" -->>> \")"
   ]
  },
  {
   "cell_type": "code",
   "execution_count": 2,
   "id": "a117c1b5-5e2d-499e-b282-e2cfbcea3454",
   "metadata": {
    "execution": {
     "iopub.execute_input": "2022-01-07T02:57:44.540358Z",
     "iopub.status.busy": "2022-01-07T02:57:44.539490Z",
     "iopub.status.idle": "2022-01-07T02:59:35.745564Z",
     "shell.execute_reply": "2022-01-07T02:59:35.743886Z",
     "shell.execute_reply.started": "2022-01-07T02:57:44.540322Z"
    },
    "jupyter": {
     "source_hidden": true
    },
    "scrolled": true
   },
   "outputs": [
    {
     "name": "stdout",
     "output_type": "stream",
     "text": [
      "总故障硬盘数量为：1378\n"
     ]
    },
    {
     "ename": "KeyboardInterrupt",
     "evalue": "",
     "output_type": "error",
     "traceback": [
      "\u001b[0;31m---------------------------------------------------------------------------\u001b[0m",
      "\u001b[0;31mKeyboardInterrupt\u001b[0m                         Traceback (most recent call last)",
      "\u001b[0;32m/tmp/ipykernel_6499/1274409000.py\u001b[0m in \u001b[0;36m<module>\u001b[0;34m\u001b[0m\n\u001b[1;32m     25\u001b[0m \u001b[0msuccess_serial_list\u001b[0m \u001b[0;34m=\u001b[0m \u001b[0;34m[\u001b[0m\u001b[0;34m]\u001b[0m\u001b[0;34m\u001b[0m\u001b[0;34m\u001b[0m\u001b[0m\n\u001b[1;32m     26\u001b[0m \u001b[0;32mfor\u001b[0m \u001b[0mserial_item\u001b[0m \u001b[0;32min\u001b[0m \u001b[0mlast_day_serial_list\u001b[0m\u001b[0;34m:\u001b[0m\u001b[0;34m\u001b[0m\u001b[0;34m\u001b[0m\u001b[0m\n\u001b[0;32m---> 27\u001b[0;31m     \u001b[0;32mif\u001b[0m \u001b[0mserial_item\u001b[0m \u001b[0;32mnot\u001b[0m \u001b[0;32min\u001b[0m \u001b[0mfailure_serial_list\u001b[0m \u001b[0;32mand\u001b[0m \u001b[0mserial_item\u001b[0m \u001b[0;32min\u001b[0m \u001b[0mfirst_day_serial_list\u001b[0m\u001b[0;34m:\u001b[0m\u001b[0;34m\u001b[0m\u001b[0;34m\u001b[0m\u001b[0m\n\u001b[0m\u001b[1;32m     28\u001b[0m         \u001b[0msuccess_serial_list\u001b[0m\u001b[0;34m.\u001b[0m\u001b[0mappend\u001b[0m\u001b[0;34m(\u001b[0m\u001b[0mserial_item\u001b[0m\u001b[0;34m)\u001b[0m\u001b[0;34m\u001b[0m\u001b[0;34m\u001b[0m\u001b[0m\n\u001b[1;32m     29\u001b[0m         \u001b[0mtotal_success_count\u001b[0m \u001b[0;34m=\u001b[0m \u001b[0mtotal_success_count\u001b[0m \u001b[0;34m+\u001b[0m \u001b[0;36m1\u001b[0m\u001b[0;34m\u001b[0m\u001b[0;34m\u001b[0m\u001b[0m\n",
      "\u001b[0;31mKeyboardInterrupt\u001b[0m: "
     ]
    }
   ],
   "source": [
    "#########################################\n",
    "### 提取无故障硬盘的数据集serial_num列表 ###\n",
    "#########################################\n",
    "'''\n",
    "    解决思路：\n",
    "    1.读取2018-12-31的硬盘序列号\n",
    "    2.提取不在故障列表中且从第一天就存在的硬盘序列（最为robust的硬盘）\n",
    "'''\n",
    "# 获取特定某一天的serial_list, selected_date = 2018-01-01\n",
    "def get_serial_list_by_selected_date(selected_date):\n",
    "    selected_date_file_path = data_folder_path + \"/\" + selected_date + '.csv'\n",
    "    selected_date_df = pd.read_csv(selected_date_file_path)\n",
    "    selected_serial_list = selected_date_df.loc[:,\"serial_number\"].values.tolist() # serial_number列切片\n",
    "    return selected_serial_list\n",
    "\n",
    "# 加载故障硬盘信息用于对比\n",
    "failure_serial_list = read_file_to_list(result_folder_path, failure_serial_file)\n",
    "print(\"总故障硬盘数量为：\"+str(len(failure_serial_list)))\n",
    "\n",
    "first_day_serial_list = get_serial_list_by_selected_date(\"2018-01-01\")\n",
    "last_day_serial_list = get_serial_list_by_selected_date(\"2018-12-31\")\n",
    "\n",
    "# 从第一天到最后一天都没有故障的硬盘数量 78844\n",
    "total_success_count = 0\n",
    "success_serial_list = []\n",
    "for serial_item in last_day_serial_list:\n",
    "    if serial_item not in failure_serial_list and serial_item in first_day_serial_list:\n",
    "        success_serial_list.append(serial_item)\n",
    "        total_success_count = total_success_count + 1\n",
    "\n",
    "# 保存无故障的硬盘serial_num信息\n",
    "write_list_to_file(success_serial_list, result_folder_path, success_serial_file)"
   ]
  },
  {
   "cell_type": "code",
   "execution_count": 2,
   "id": "ecddf49a-55a5-43a4-917b-bb15c50aa3f0",
   "metadata": {
    "execution": {
     "iopub.execute_input": "2022-01-07T03:00:43.948367Z",
     "iopub.status.busy": "2022-01-07T03:00:43.947646Z",
     "iopub.status.idle": "2022-01-07T03:00:52.761448Z",
     "shell.execute_reply": "2022-01-07T03:00:52.760799Z",
     "shell.execute_reply.started": "2022-01-07T03:00:43.948324Z"
    },
    "scrolled": true
   },
   "outputs": [
    {
     "name": "stdout",
     "output_type": "stream",
     "text": [
      "selectd_success_data_size == 2\n",
      "2018-07-07.csv\n",
      "2018-10-04.csv\n",
      "2018-01-23.csv\n",
      "2018-06-12.csv\n",
      "2018-12-15.csv\n",
      "2018-03-30.csv\n",
      "2018-05-29.csv\n",
      "2018-10-02.csv\n",
      "2018-08-10.csv\n",
      "2018-10-11.csv\n",
      "PL1331LAGS3XKH -->>> \n",
      "Z304JPP9 -->>> \n"
     ]
    }
   ],
   "source": [
    "###################################\n",
    "###提取无故障硬盘数据集的详细信息 ###\n",
    "###################################\n",
    "\n",
    "from random import sample\n",
    "\n",
    "# 加载无故障的硬盘序列\n",
    "success_serial_list = read_file_to_list(result_folder_path, success_serial_file)\n",
    "\n",
    "# 随机抽取列表的2000个元素(考虑故障数据集的size为1300左右)\n",
    "SELECTED_SIZE = 2\n",
    "selected_serial_list = sample(success_serial_list, SELECTED_SIZE)\n",
    "print(\"selectd_success_data_size == \" + str(len(selected_serial_list)))\n",
    "\n",
    "'''\n",
    "解决思路：\n",
    "1.遍历所有原始文件，找出每个文件中无故障的硬盘数据，同时插入time_interval列构成按天的success_df\n",
    "2.构建success_dict，其中key值为硬盘serial_number，但value值使用当天的df数据\n",
    "3.遍历success_dict的key值（保存的serial_num）,对该硬盘的所有df值按照时间系列time_interval递增排序\n",
    "'''\n",
    "success_dict = {} # key: serial_num || value: df 详细信息\n",
    "for _ , fileName in enumerate(dataFiles):\n",
    "    filePath = data_folder_path + \"/\" + fileName\n",
    "    with open(filePath, 'r') as f:\n",
    "        success_df = pd.read_csv(f)\n",
    "        # 截取serial_number值存在于selected_serial_list的df数据\n",
    "        success_df = success_df.loc[success_df['serial_number'].isin(selected_serial_list)]\n",
    "        # 通过文件名获取时间序列信息\n",
    "        time_interval = time_interval_from_fileName(fileName)\n",
    "        # 在原success_df中插入时间列time_interval\n",
    "        success_df.insert(loc=1, column='time_interval', value=time_interval)\n",
    "        success_serial_list = success_df.iloc[:,2].values.tolist()\n",
    "        for serial_item in success_serial_list:\n",
    "            current_df = success_df.loc[success_df['serial_number'] == serial_item]\n",
    "            # 遍历无故障的硬盘serial，将value值设置为存储df结构的list\n",
    "            if serial_item not in success_dict.keys():\n",
    "                success_dict[serial_item] = [current_df]\n",
    "            else:\n",
    "                success_dict[serial_item].append(current_df)\n",
    "    print(fileName)\n",
    "\n",
    "for key in success_dict.keys():\n",
    "    df_data_list = success_dict[key]\n",
    "    df_data = pd.DataFrame() # 初始化DataFrame数据结构\n",
    "    for _, df_item in enumerate(df_data_list):\n",
    "        df_data = df_data.append(df_item)\n",
    "    # 对df按照interval_time的列递增排序写入csv\n",
    "    df_data = df_data.sort_values(by=['time_interval'], ascending=True) \n",
    "    success_csv_file = result_folder_path + \"/success/clean/\" + key + \".csv\"\n",
    "    with open(success_csv_file, 'w+') as f:\n",
    "        df_data.to_csv(f)\n",
    "    print(key + \" -->>> \")"
   ]
  }
 ],
 "metadata": {
  "kernelspec": {
   "display_name": "Python 3",
   "language": "python",
   "name": "py35-paddle1.2.0"
  },
  "language_info": {
   "codemirror_mode": {
    "name": "ipython",
    "version": 3
   },
   "file_extension": ".py",
   "mimetype": "text/x-python",
   "name": "python",
   "nbconvert_exporter": "python",
   "pygments_lexer": "ipython3",
   "version": "3.7.4"
  }
 },
 "nbformat": 4,
 "nbformat_minor": 5
}
